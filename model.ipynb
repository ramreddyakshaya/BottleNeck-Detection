{
 "cells": [
  {
   "cell_type": "code",
   "execution_count": 1,
   "metadata": {},
   "outputs": [],
   "source": [
    "import pandas as pd\n",
    "import numpy as np"
   ]
  },
  {
   "cell_type": "code",
   "execution_count": 2,
   "metadata": {},
   "outputs": [],
   "source": [
    "df = pd.read_csv('dataset/APA-DDoS-Dataset.csv')"
   ]
  },
  {
   "cell_type": "code",
   "execution_count": 3,
   "metadata": {},
   "outputs": [
    {
     "data": {
      "text/html": [
       "<div>\n",
       "<style scoped>\n",
       "    .dataframe tbody tr th:only-of-type {\n",
       "        vertical-align: middle;\n",
       "    }\n",
       "\n",
       "    .dataframe tbody tr th {\n",
       "        vertical-align: top;\n",
       "    }\n",
       "\n",
       "    .dataframe thead th {\n",
       "        text-align: right;\n",
       "    }\n",
       "</style>\n",
       "<table border=\"1\" class=\"dataframe\">\n",
       "  <thead>\n",
       "    <tr style=\"text-align: right;\">\n",
       "      <th></th>\n",
       "      <th>ip.src</th>\n",
       "      <th>ip.dst</th>\n",
       "      <th>tcp.srcport</th>\n",
       "      <th>tcp.dstport</th>\n",
       "      <th>ip.proto</th>\n",
       "      <th>frame.len</th>\n",
       "      <th>tcp.flags.syn</th>\n",
       "      <th>tcp.flags.reset</th>\n",
       "      <th>tcp.flags.push</th>\n",
       "      <th>tcp.flags.ack</th>\n",
       "      <th>...</th>\n",
       "      <th>tcp.ack</th>\n",
       "      <th>frame.time</th>\n",
       "      <th>Packets</th>\n",
       "      <th>Bytes</th>\n",
       "      <th>Tx Packets</th>\n",
       "      <th>Tx Bytes</th>\n",
       "      <th>Rx Packets</th>\n",
       "      <th>Rx Bytes</th>\n",
       "      <th>Label</th>\n",
       "      <th>Label_encoded</th>\n",
       "    </tr>\n",
       "  </thead>\n",
       "  <tbody>\n",
       "    <tr>\n",
       "      <th>0</th>\n",
       "      <td>192.168.1.1</td>\n",
       "      <td>192.168.23.2</td>\n",
       "      <td>2412</td>\n",
       "      <td>8000</td>\n",
       "      <td>6</td>\n",
       "      <td>54</td>\n",
       "      <td>0</td>\n",
       "      <td>0</td>\n",
       "      <td>1</td>\n",
       "      <td>1</td>\n",
       "      <td>...</td>\n",
       "      <td>1</td>\n",
       "      <td>16-Jun 2020 20:18:15.071112000 Mountain Dayli...</td>\n",
       "      <td>8</td>\n",
       "      <td>432</td>\n",
       "      <td>4</td>\n",
       "      <td>216</td>\n",
       "      <td>4</td>\n",
       "      <td>216</td>\n",
       "      <td>DDoS-PSH-ACK</td>\n",
       "      <td>2</td>\n",
       "    </tr>\n",
       "    <tr>\n",
       "      <th>1</th>\n",
       "      <td>192.168.1.1</td>\n",
       "      <td>192.168.23.2</td>\n",
       "      <td>2413</td>\n",
       "      <td>8000</td>\n",
       "      <td>6</td>\n",
       "      <td>54</td>\n",
       "      <td>0</td>\n",
       "      <td>0</td>\n",
       "      <td>1</td>\n",
       "      <td>1</td>\n",
       "      <td>...</td>\n",
       "      <td>1</td>\n",
       "      <td>16-Jun 2020 20:18:15.071138000 Mountain Dayli...</td>\n",
       "      <td>10</td>\n",
       "      <td>540</td>\n",
       "      <td>5</td>\n",
       "      <td>270</td>\n",
       "      <td>5</td>\n",
       "      <td>270</td>\n",
       "      <td>DDoS-PSH-ACK</td>\n",
       "      <td>2</td>\n",
       "    </tr>\n",
       "    <tr>\n",
       "      <th>2</th>\n",
       "      <td>192.168.1.1</td>\n",
       "      <td>192.168.23.2</td>\n",
       "      <td>2414</td>\n",
       "      <td>8000</td>\n",
       "      <td>6</td>\n",
       "      <td>54</td>\n",
       "      <td>0</td>\n",
       "      <td>0</td>\n",
       "      <td>1</td>\n",
       "      <td>1</td>\n",
       "      <td>...</td>\n",
       "      <td>1</td>\n",
       "      <td>16-Jun 2020 20:18:15.071146000 Mountain Dayli...</td>\n",
       "      <td>12</td>\n",
       "      <td>648</td>\n",
       "      <td>6</td>\n",
       "      <td>324</td>\n",
       "      <td>6</td>\n",
       "      <td>324</td>\n",
       "      <td>DDoS-PSH-ACK</td>\n",
       "      <td>2</td>\n",
       "    </tr>\n",
       "    <tr>\n",
       "      <th>3</th>\n",
       "      <td>192.168.1.1</td>\n",
       "      <td>192.168.23.2</td>\n",
       "      <td>2415</td>\n",
       "      <td>8000</td>\n",
       "      <td>6</td>\n",
       "      <td>54</td>\n",
       "      <td>0</td>\n",
       "      <td>0</td>\n",
       "      <td>1</td>\n",
       "      <td>1</td>\n",
       "      <td>...</td>\n",
       "      <td>1</td>\n",
       "      <td>16-Jun 2020 20:18:15.071152000 Mountain Dayli...</td>\n",
       "      <td>10</td>\n",
       "      <td>540</td>\n",
       "      <td>5</td>\n",
       "      <td>270</td>\n",
       "      <td>5</td>\n",
       "      <td>270</td>\n",
       "      <td>DDoS-PSH-ACK</td>\n",
       "      <td>2</td>\n",
       "    </tr>\n",
       "    <tr>\n",
       "      <th>4</th>\n",
       "      <td>192.168.1.1</td>\n",
       "      <td>192.168.23.2</td>\n",
       "      <td>2416</td>\n",
       "      <td>8000</td>\n",
       "      <td>6</td>\n",
       "      <td>54</td>\n",
       "      <td>0</td>\n",
       "      <td>0</td>\n",
       "      <td>1</td>\n",
       "      <td>1</td>\n",
       "      <td>...</td>\n",
       "      <td>1</td>\n",
       "      <td>16-Jun 2020 20:18:15.071159000 Mountain Dayli...</td>\n",
       "      <td>6</td>\n",
       "      <td>324</td>\n",
       "      <td>3</td>\n",
       "      <td>162</td>\n",
       "      <td>3</td>\n",
       "      <td>162</td>\n",
       "      <td>DDoS-PSH-ACK</td>\n",
       "      <td>2</td>\n",
       "    </tr>\n",
       "  </tbody>\n",
       "</table>\n",
       "<p>5 rows × 24 columns</p>\n",
       "</div>"
      ],
      "text/plain": [
       "        ip.src        ip.dst  tcp.srcport  tcp.dstport  ip.proto  frame.len  \\\n",
       "0  192.168.1.1  192.168.23.2         2412         8000         6         54   \n",
       "1  192.168.1.1  192.168.23.2         2413         8000         6         54   \n",
       "2  192.168.1.1  192.168.23.2         2414         8000         6         54   \n",
       "3  192.168.1.1  192.168.23.2         2415         8000         6         54   \n",
       "4  192.168.1.1  192.168.23.2         2416         8000         6         54   \n",
       "\n",
       "   tcp.flags.syn  tcp.flags.reset  tcp.flags.push  tcp.flags.ack  ...  \\\n",
       "0              0                0               1              1  ...   \n",
       "1              0                0               1              1  ...   \n",
       "2              0                0               1              1  ...   \n",
       "3              0                0               1              1  ...   \n",
       "4              0                0               1              1  ...   \n",
       "\n",
       "   tcp.ack                                         frame.time  Packets  Bytes  \\\n",
       "0        1   16-Jun 2020 20:18:15.071112000 Mountain Dayli...        8    432   \n",
       "1        1   16-Jun 2020 20:18:15.071138000 Mountain Dayli...       10    540   \n",
       "2        1   16-Jun 2020 20:18:15.071146000 Mountain Dayli...       12    648   \n",
       "3        1   16-Jun 2020 20:18:15.071152000 Mountain Dayli...       10    540   \n",
       "4        1   16-Jun 2020 20:18:15.071159000 Mountain Dayli...        6    324   \n",
       "\n",
       "   Tx Packets Tx Bytes  Rx Packets  Rx Bytes         Label  Label_encoded  \n",
       "0           4      216           4       216  DDoS-PSH-ACK              2  \n",
       "1           5      270           5       270  DDoS-PSH-ACK              2  \n",
       "2           6      324           6       324  DDoS-PSH-ACK              2  \n",
       "3           5      270           5       270  DDoS-PSH-ACK              2  \n",
       "4           3      162           3       162  DDoS-PSH-ACK              2  \n",
       "\n",
       "[5 rows x 24 columns]"
      ]
     },
     "execution_count": 3,
     "metadata": {},
     "output_type": "execute_result"
    }
   ],
   "source": [
    "df.head(5)"
   ]
  },
  {
   "cell_type": "code",
   "execution_count": 4,
   "metadata": {},
   "outputs": [
    {
     "data": {
      "text/plain": [
       "Index(['ip.src', 'ip.dst', 'tcp.srcport', 'tcp.dstport', 'ip.proto',\n",
       "       'frame.len', 'tcp.flags.syn', 'tcp.flags.reset', 'tcp.flags.push',\n",
       "       'tcp.flags.ack', 'ip.flags.mf', 'ip.flags.df', 'ip.flags.rb', 'tcp.seq',\n",
       "       'tcp.ack', 'frame.time', 'Packets', 'Bytes', 'Tx Packets', 'Tx Bytes',\n",
       "       'Rx Packets', 'Rx Bytes', 'Label', 'Label_encoded'],\n",
       "      dtype='object')"
      ]
     },
     "execution_count": 4,
     "metadata": {},
     "output_type": "execute_result"
    }
   ],
   "source": [
    "df.columns"
   ]
  },
  {
   "cell_type": "code",
   "execution_count": 5,
   "metadata": {},
   "outputs": [
    {
     "name": "stdout",
     "output_type": "stream",
     "text": [
      "<class 'pandas.core.frame.DataFrame'>\n",
      "RangeIndex: 151200 entries, 0 to 151199\n",
      "Data columns (total 24 columns):\n",
      " #   Column           Non-Null Count   Dtype \n",
      "---  ------           --------------   ----- \n",
      " 0   ip.src           151200 non-null  object\n",
      " 1   ip.dst           151200 non-null  object\n",
      " 2   tcp.srcport      151200 non-null  int64 \n",
      " 3   tcp.dstport      151200 non-null  int64 \n",
      " 4   ip.proto         151200 non-null  int64 \n",
      " 5   frame.len        151200 non-null  int64 \n",
      " 6   tcp.flags.syn    151200 non-null  int64 \n",
      " 7   tcp.flags.reset  151200 non-null  int64 \n",
      " 8   tcp.flags.push   151200 non-null  int64 \n",
      " 9   tcp.flags.ack    151200 non-null  int64 \n",
      " 10  ip.flags.mf      151200 non-null  int64 \n",
      " 11  ip.flags.df      151200 non-null  int64 \n",
      " 12  ip.flags.rb      151200 non-null  int64 \n",
      " 13  tcp.seq          151200 non-null  int64 \n",
      " 14  tcp.ack          151200 non-null  int64 \n",
      " 15  frame.time       151200 non-null  object\n",
      " 16  Packets          151200 non-null  int64 \n",
      " 17  Bytes            151200 non-null  int64 \n",
      " 18  Tx Packets       151200 non-null  int64 \n",
      " 19  Tx Bytes         151200 non-null  int64 \n",
      " 20  Rx Packets       151200 non-null  int64 \n",
      " 21  Rx Bytes         151200 non-null  int64 \n",
      " 22  Label            151200 non-null  object\n",
      " 23  Label_encoded    151200 non-null  int64 \n",
      "dtypes: int64(20), object(4)\n",
      "memory usage: 27.7+ MB\n"
     ]
    }
   ],
   "source": [
    "df.info()"
   ]
  },
  {
   "cell_type": "code",
   "execution_count": 6,
   "metadata": {},
   "outputs": [
    {
     "data": {
      "text/plain": [
       "ip.src             0\n",
       "ip.dst             0\n",
       "tcp.srcport        0\n",
       "tcp.dstport        0\n",
       "ip.proto           0\n",
       "frame.len          0\n",
       "tcp.flags.syn      0\n",
       "tcp.flags.reset    0\n",
       "tcp.flags.push     0\n",
       "tcp.flags.ack      0\n",
       "ip.flags.mf        0\n",
       "ip.flags.df        0\n",
       "ip.flags.rb        0\n",
       "tcp.seq            0\n",
       "tcp.ack            0\n",
       "frame.time         0\n",
       "Packets            0\n",
       "Bytes              0\n",
       "Tx Packets         0\n",
       "Tx Bytes           0\n",
       "Rx Packets         0\n",
       "Rx Bytes           0\n",
       "Label              0\n",
       "Label_encoded      0\n",
       "dtype: int64"
      ]
     },
     "execution_count": 6,
     "metadata": {},
     "output_type": "execute_result"
    }
   ],
   "source": [
    "df.isnull().sum()"
   ]
  },
  {
   "cell_type": "code",
   "execution_count": 7,
   "metadata": {},
   "outputs": [],
   "source": [
    "X=df[['ip.flags.df', 'frame.len', 'Rx Bytes', 'tcp.srcport', 'Tx Bytes', 'Tx Packets', 'Packets', 'Rx Packets']]"
   ]
  },
  {
   "cell_type": "code",
   "execution_count": 8,
   "metadata": {},
   "outputs": [],
   "source": [
    "y = df[['Label_encoded']]"
   ]
  },
  {
   "cell_type": "code",
   "execution_count": 10,
   "metadata": {},
   "outputs": [
    {
     "data": {
      "text/plain": [
       "array([2, 0, 1], dtype=int64)"
      ]
     },
     "execution_count": 10,
     "metadata": {},
     "output_type": "execute_result"
    }
   ],
   "source": [
    "y['Label_encoded'].unique()"
   ]
  },
  {
   "cell_type": "code",
   "execution_count": 11,
   "metadata": {},
   "outputs": [
    {
     "name": "stderr",
     "output_type": "stream",
     "text": [
      "c:\\Users\\akbar\\AppData\\Local\\Programs\\Python\\Python37\\lib\\site-packages\\sklearn\\utils\\validation.py:993: DataConversionWarning: A column-vector y was passed when a 1d array was expected. Please change the shape of y to (n_samples, ), for example using ravel().\n",
      "  y = column_or_1d(y, warn=True)\n",
      "c:\\Users\\akbar\\AppData\\Local\\Programs\\Python\\Python37\\lib\\site-packages\\sklearn\\linear_model\\_logistic.py:818: ConvergenceWarning: lbfgs failed to converge (status=1):\n",
      "STOP: TOTAL NO. of ITERATIONS REACHED LIMIT.\n",
      "\n",
      "Increase the number of iterations (max_iter) or scale the data as shown in:\n",
      "    https://scikit-learn.org/stable/modules/preprocessing.html\n",
      "Please also refer to the documentation for alternative solver options:\n",
      "    https://scikit-learn.org/stable/modules/linear_model.html#logistic-regression\n",
      "  extra_warning_msg=_LOGISTIC_SOLVER_CONVERGENCE_MSG,\n"
     ]
    },
    {
     "name": "stdout",
     "output_type": "stream",
     "text": [
      "LogisticRegression: 0.7720\n",
      "DecisionTreeClassifier: 0.7604\n"
     ]
    },
    {
     "name": "stderr",
     "output_type": "stream",
     "text": [
      "c:\\Users\\akbar\\AppData\\Local\\Programs\\Python\\Python37\\lib\\site-packages\\sklearn\\utils\\validation.py:993: DataConversionWarning: A column-vector y was passed when a 1d array was expected. Please change the shape of y to (n_samples, ), for example using ravel().\n",
      "  y = column_or_1d(y, warn=True)\n"
     ]
    },
    {
     "name": "stdout",
     "output_type": "stream",
     "text": [
      "SVC: 0.7668\n"
     ]
    },
    {
     "name": "stderr",
     "output_type": "stream",
     "text": [
      "C:\\Users\\akbar\\AppData\\Roaming\\Python\\Python37\\site-packages\\ipykernel_launcher.py:27: DataConversionWarning: A column-vector y was passed when a 1d array was expected. Please change the shape of y to (n_samples,), for example using ravel().\n"
     ]
    },
    {
     "name": "stdout",
     "output_type": "stream",
     "text": [
      "RandomForestClassifier: 0.7702\n"
     ]
    },
    {
     "name": "stderr",
     "output_type": "stream",
     "text": [
      "c:\\Users\\akbar\\AppData\\Local\\Programs\\Python\\Python37\\lib\\site-packages\\sklearn\\neighbors\\_classification.py:198: DataConversionWarning: A column-vector y was passed when a 1d array was expected. Please change the shape of y to (n_samples,), for example using ravel().\n",
      "  return self._fit(X, y)\n"
     ]
    },
    {
     "name": "stdout",
     "output_type": "stream",
     "text": [
      "KNeighborsClassifier: 0.7915\n",
      "GaussianNB: 0.7697\n"
     ]
    },
    {
     "name": "stderr",
     "output_type": "stream",
     "text": [
      "c:\\Users\\akbar\\AppData\\Local\\Programs\\Python\\Python37\\lib\\site-packages\\sklearn\\utils\\validation.py:993: DataConversionWarning: A column-vector y was passed when a 1d array was expected. Please change the shape of y to (n_samples, ), for example using ravel().\n",
      "  y = column_or_1d(y, warn=True)\n"
     ]
    }
   ],
   "source": [
    "from sklearn.linear_model import LogisticRegression\n",
    "from sklearn.tree import DecisionTreeClassifier\n",
    "from sklearn.svm import SVC\n",
    "from sklearn.ensemble import RandomForestClassifier\n",
    "from sklearn.neighbors import KNeighborsClassifier\n",
    "from sklearn.naive_bayes import GaussianNB\n",
    "from sklearn.metrics import accuracy_score\n",
    "from sklearn.model_selection import train_test_split\n",
    "\n",
    "# Assuming you have your data X and labels y properly loaded\n",
    "\n",
    "# Split data into training and testing sets\n",
    "X_train, X_test, y_train, y_test = train_test_split(X, y, test_size=0.3, random_state=42)\n",
    "\n",
    "# Define a list of classifiers\n",
    "classifiers = [\n",
    "    LogisticRegression(),\n",
    "    DecisionTreeClassifier(),\n",
    "    SVC(),\n",
    "    RandomForestClassifier(),\n",
    "    KNeighborsClassifier(),\n",
    "    GaussianNB()\n",
    "]\n",
    "\n",
    "# Train and evaluate each classifier\n",
    "for clf in classifiers:\n",
    "    clf.fit(X_train, y_train)\n",
    "    y_pred = clf.predict(X_test)\n",
    "    accuracy = accuracy_score(y_test, y_pred)\n",
    "    print(f\"{clf.__class__.__name__}: {accuracy:.4f}\") \n"
   ]
  },
  {
   "cell_type": "code",
   "execution_count": 12,
   "metadata": {},
   "outputs": [
    {
     "name": "stderr",
     "output_type": "stream",
     "text": [
      "c:\\Users\\akbar\\AppData\\Local\\Programs\\Python\\Python37\\lib\\site-packages\\sklearn\\preprocessing\\_label.py:98: DataConversionWarning: A column-vector y was passed when a 1d array was expected. Please change the shape of y to (n_samples, ), for example using ravel().\n",
      "  y = column_or_1d(y, warn=True)\n",
      "c:\\Users\\akbar\\AppData\\Local\\Programs\\Python\\Python37\\lib\\site-packages\\sklearn\\preprocessing\\_label.py:133: DataConversionWarning: A column-vector y was passed when a 1d array was expected. Please change the shape of y to (n_samples, ), for example using ravel().\n",
      "  y = column_or_1d(y, warn=True)\n",
      "c:\\Users\\akbar\\AppData\\Local\\Programs\\Python\\Python37\\lib\\site-packages\\sklearn\\linear_model\\_logistic.py:818: ConvergenceWarning: lbfgs failed to converge (status=1):\n",
      "STOP: TOTAL NO. of ITERATIONS REACHED LIMIT.\n",
      "\n",
      "Increase the number of iterations (max_iter) or scale the data as shown in:\n",
      "    https://scikit-learn.org/stable/modules/preprocessing.html\n",
      "Please also refer to the documentation for alternative solver options:\n",
      "    https://scikit-learn.org/stable/modules/linear_model.html#logistic-regression\n",
      "  extra_warning_msg=_LOGISTIC_SOLVER_CONVERGENCE_MSG,\n"
     ]
    }
   ],
   "source": [
    "from sklearn.ensemble import VotingClassifier\n",
    "import pickle\n",
    "\n",
    "clf1 = LogisticRegression()\n",
    "clf2 = DecisionTreeClassifier()\n",
    "clf3 = SVC()\n",
    "\n",
    "clf = VotingClassifier(estimators=[('LogisticRegression', clf1),\n",
    "                                 ('DecisionTreeClassifier', clf2),\n",
    "                                 ('SVC', clf3)],\n",
    "                        voting='hard')\n",
    "\n",
    "clf.fit(X_train, y_train)\n",
    "\n",
    "with open('voting_classifier.pkl', 'wb') as f:\n",
    "    pickle.dump(clf, f)"
   ]
  },
  {
   "cell_type": "code",
   "execution_count": 14,
   "metadata": {},
   "outputs": [
    {
     "name": "stdout",
     "output_type": "stream",
     "text": [
      "[2]\n"
     ]
    },
    {
     "name": "stderr",
     "output_type": "stream",
     "text": [
      "c:\\Users\\akbar\\AppData\\Local\\Programs\\Python\\Python37\\lib\\site-packages\\sklearn\\base.py:451: UserWarning: X does not have valid feature names, but LogisticRegression was fitted with feature names\n",
      "  \"X does not have valid feature names, but\"\n",
      "c:\\Users\\akbar\\AppData\\Local\\Programs\\Python\\Python37\\lib\\site-packages\\sklearn\\base.py:451: UserWarning: X does not have valid feature names, but DecisionTreeClassifier was fitted with feature names\n",
      "  \"X does not have valid feature names, but\"\n",
      "c:\\Users\\akbar\\AppData\\Local\\Programs\\Python\\Python37\\lib\\site-packages\\sklearn\\base.py:451: UserWarning: X does not have valid feature names, but SVC was fitted with feature names\n",
      "  \"X does not have valid feature names, but\"\n"
     ]
    }
   ],
   "source": [
    "# To load the model later for prediction:\n",
    "with open('voting_classifier.pkl', 'rb') as f:\n",
    "    loaded_clf = pickle.load(f)\n",
    "#\n",
    "# Make predictions on new data\n",
    "new_data = [[0, 54, 216, 2412, 216, 4, 8, 4]]\n",
    "new_predictions = loaded_clf.predict(new_data)\n",
    "print(new_predictions)"
   ]
  }
 ],
 "metadata": {
  "kernelspec": {
   "display_name": "Python 3",
   "language": "python",
   "name": "python3"
  },
  "language_info": {
   "codemirror_mode": {
    "name": "ipython",
    "version": 3
   },
   "file_extension": ".py",
   "mimetype": "text/x-python",
   "name": "python",
   "nbconvert_exporter": "python",
   "pygments_lexer": "ipython3",
   "version": "3.7.4"
  }
 },
 "nbformat": 4,
 "nbformat_minor": 2
}
